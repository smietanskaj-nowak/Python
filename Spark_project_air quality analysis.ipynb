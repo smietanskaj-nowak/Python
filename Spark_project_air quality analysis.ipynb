{
  "cells": [
    {
      "cell_type": "markdown",
      "metadata": {
        "id": "KYJnO_7H3eQr"
      },
      "source": [
        "## Spark Data: Open Air Quality data set, reading data from S3"
      ]
    },
    {
      "cell_type": "code",
      "execution_count": null,
      "metadata": {
        "id": "F9mVFYSK3eQx"
      },
      "outputs": [],
      "source": [
        "import matplotlib.pyplot as plt\n",
        "import pandas as pd"
      ]
    },
    {
      "cell_type": "markdown",
      "metadata": {
        "id": "YlCUxniHIDev"
      },
      "source": [
        "### Download and initialize Spark"
      ]
    },
    {
      "cell_type": "code",
      "execution_count": null,
      "metadata": {
        "colab": {
          "base_uri": "https://localhost:8080/"
        },
        "collapsed": true,
        "id": "nrph8tP8vW7T",
        "outputId": "d992437b-1649-43f5-a229-3e63bbeb5f5c"
      },
      "outputs": [
        {
          "name": "stdout",
          "output_type": "stream",
          "text": [
            "\n",
            "gzip: stdin: unexpected end of file\n",
            "tar: Unexpected EOF in archive\n",
            "tar: Unexpected EOF in archive\n",
            "tar: Error is not recoverable: exiting now\n"
          ]
        }
      ],
      "source": [
        "# Install OpenJDK 8 (Spark still works well with Java 8, though Java 11 is also supported)\n",
        "!apt-get install openjdk-8-jdk-headless -qq > /dev/null\n",
        "\n",
        "# Download Spark 3.5.1 with Hadoop 3.3\n",
        "!wget -q https://archive.apache.org/dist/spark/spark-3.5.1/spark-3.5.1-bin-hadoop3.tgz\n",
        "!tar -xvf spark-3.5.1-bin-hadoop3.tgz > /dev/null\n",
        "\n",
        "# Install findspark and seaborn quietly\n",
        "!pip install -q findspark > /dev/null\n",
        "!pip install seaborn > /dev/null\n",
        "\n",
        "!wget -q https://repo1.maven.org/maven2/org/apache/hadoop/hadoop-aws/3.3.4/hadoop-aws-3.3.4.jar -P /content/spark-3.5.1-bin-hadoop3/jars/\n",
        "!wget -q https://repo1.maven.org/maven2/com/amazonaws/aws-java-sdk-bundle/1.12.262/aws-java-sdk-bundle-1.12.262.jar -P /content/spark-3.5.1-bin-hadoop3/jars/\n",
        "\n",
        "# Install pyngrok (for exposing Spark UI)\n",
        "!pip install pyngrok > /dev/null"
      ]
    },
    {
      "cell_type": "code",
      "execution_count": null,
      "metadata": {
        "colab": {
          "base_uri": "https://localhost:8080/",
          "height": 424
        },
        "id": "bx1b8qMf8JOm",
        "outputId": "32b6af1e-013d-4f5b-84fe-ab3e18c97739"
      },
      "outputs": [
        {
          "ename": "Exception",
          "evalue": "Unable to find py4j in /content/spark-3.5.1-bin-hadoop3/python, your SPARK_HOME may not be configured correctly",
          "output_type": "error",
          "traceback": [
            "\u001b[0;31m---------------------------------------------------------------------------\u001b[0m",
            "\u001b[0;31mIndexError\u001b[0m                                Traceback (most recent call last)",
            "\u001b[0;32m/usr/local/lib/python3.11/dist-packages/findspark.py\u001b[0m in \u001b[0;36minit\u001b[0;34m(spark_home, python_path, edit_rc, edit_profile)\u001b[0m\n\u001b[1;32m    158\u001b[0m         \u001b[0;32mtry\u001b[0m\u001b[0;34m:\u001b[0m\u001b[0;34m\u001b[0m\u001b[0;34m\u001b[0m\u001b[0m\n\u001b[0;32m--> 159\u001b[0;31m             \u001b[0mpy4j\u001b[0m \u001b[0;34m=\u001b[0m \u001b[0mglob\u001b[0m\u001b[0;34m(\u001b[0m\u001b[0mos\u001b[0m\u001b[0;34m.\u001b[0m\u001b[0mpath\u001b[0m\u001b[0;34m.\u001b[0m\u001b[0mjoin\u001b[0m\u001b[0;34m(\u001b[0m\u001b[0mspark_python\u001b[0m\u001b[0;34m,\u001b[0m \u001b[0;34m\"lib\"\u001b[0m\u001b[0;34m,\u001b[0m \u001b[0;34m\"py4j-*.zip\"\u001b[0m\u001b[0;34m)\u001b[0m\u001b[0;34m)\u001b[0m\u001b[0;34m[\u001b[0m\u001b[0;36m0\u001b[0m\u001b[0;34m]\u001b[0m\u001b[0;34m\u001b[0m\u001b[0;34m\u001b[0m\u001b[0m\n\u001b[0m\u001b[1;32m    160\u001b[0m         \u001b[0;32mexcept\u001b[0m \u001b[0mIndexError\u001b[0m\u001b[0;34m:\u001b[0m\u001b[0;34m\u001b[0m\u001b[0;34m\u001b[0m\u001b[0m\n",
            "\u001b[0;31mIndexError\u001b[0m: list index out of range",
            "\nDuring handling of the above exception, another exception occurred:\n",
            "\u001b[0;31mException\u001b[0m                                 Traceback (most recent call last)",
            "\u001b[0;32m/tmp/ipython-input-8-3687981521.py\u001b[0m in \u001b[0;36m<cell line: 0>\u001b[0;34m()\u001b[0m\n\u001b[1;32m      6\u001b[0m \u001b[0;31m# Initialize findspark and start a SparkSession\u001b[0m\u001b[0;34m\u001b[0m\u001b[0;34m\u001b[0m\u001b[0m\n\u001b[1;32m      7\u001b[0m \u001b[0;32mimport\u001b[0m \u001b[0mfindspark\u001b[0m\u001b[0;34m\u001b[0m\u001b[0;34m\u001b[0m\u001b[0m\n\u001b[0;32m----> 8\u001b[0;31m \u001b[0mfindspark\u001b[0m\u001b[0;34m.\u001b[0m\u001b[0minit\u001b[0m\u001b[0;34m(\u001b[0m\u001b[0;34m)\u001b[0m\u001b[0;34m\u001b[0m\u001b[0;34m\u001b[0m\u001b[0m\n\u001b[0m\u001b[1;32m      9\u001b[0m \u001b[0;32mfrom\u001b[0m \u001b[0mpyspark\u001b[0m\u001b[0;34m.\u001b[0m\u001b[0msql\u001b[0m \u001b[0;32mimport\u001b[0m \u001b[0mSparkSession\u001b[0m\u001b[0;34m\u001b[0m\u001b[0;34m\u001b[0m\u001b[0m\n\u001b[1;32m     10\u001b[0m \u001b[0;34m\u001b[0m\u001b[0m\n",
            "\u001b[0;32m/usr/local/lib/python3.11/dist-packages/findspark.py\u001b[0m in \u001b[0;36minit\u001b[0;34m(spark_home, python_path, edit_rc, edit_profile)\u001b[0m\n\u001b[1;32m    159\u001b[0m             \u001b[0mpy4j\u001b[0m \u001b[0;34m=\u001b[0m \u001b[0mglob\u001b[0m\u001b[0;34m(\u001b[0m\u001b[0mos\u001b[0m\u001b[0;34m.\u001b[0m\u001b[0mpath\u001b[0m\u001b[0;34m.\u001b[0m\u001b[0mjoin\u001b[0m\u001b[0;34m(\u001b[0m\u001b[0mspark_python\u001b[0m\u001b[0;34m,\u001b[0m \u001b[0;34m\"lib\"\u001b[0m\u001b[0;34m,\u001b[0m \u001b[0;34m\"py4j-*.zip\"\u001b[0m\u001b[0;34m)\u001b[0m\u001b[0;34m)\u001b[0m\u001b[0;34m[\u001b[0m\u001b[0;36m0\u001b[0m\u001b[0;34m]\u001b[0m\u001b[0;34m\u001b[0m\u001b[0;34m\u001b[0m\u001b[0m\n\u001b[1;32m    160\u001b[0m         \u001b[0;32mexcept\u001b[0m \u001b[0mIndexError\u001b[0m\u001b[0;34m:\u001b[0m\u001b[0;34m\u001b[0m\u001b[0;34m\u001b[0m\u001b[0m\n\u001b[0;32m--> 161\u001b[0;31m             raise Exception(\n\u001b[0m\u001b[1;32m    162\u001b[0m                 \"Unable to find py4j in {}, your SPARK_HOME may not be configured correctly\".format(\n\u001b[1;32m    163\u001b[0m                     \u001b[0mspark_python\u001b[0m\u001b[0;34m\u001b[0m\u001b[0;34m\u001b[0m\u001b[0m\n",
            "\u001b[0;31mException\u001b[0m: Unable to find py4j in /content/spark-3.5.1-bin-hadoop3/python, your SPARK_HOME may not be configured correctly"
          ]
        }
      ],
      "source": [
        "# Set up environment variables for Spark\n",
        "import os\n",
        "os.environ[\"JAVA_HOME\"] = \"/usr/lib/jvm/java-8-openjdk-amd64\"\n",
        "os.environ[\"SPARK_HOME\"] = \"/content/spark-3.5.1-bin-hadoop3\"\n",
        "\n",
        "# Initialize findspark and start a SparkSession\n",
        "import findspark\n",
        "findspark.init()\n",
        "from pyspark.sql import SparkSession\n",
        "\n",
        "# Create SparkSession\n",
        "spark = SparkSession.builder \\\n",
        "    .appName(\"UpdatedSparkApp\") \\\n",
        "    .getOrCreate()\n",
        "\n",
        "# Verify the Spark version\n",
        "print(\"Spark Version:\", spark.version)"
      ]
    },
    {
      "cell_type": "code",
      "execution_count": null,
      "metadata": {
        "colab": {
          "base_uri": "https://localhost:8080/"
        },
        "id": "_gMVA62x74J6",
        "outputId": "69d60e57-13a7-43ae-c782-1f018f9cde08"
      },
      "outputs": [
        {
          "name": "stdout",
          "output_type": "stream",
          "text": [
            "Enter your authtoken, which can be copied from https://dashboard.ngrok.com/get-started/your-authtoken\n",
            "··········\n"
          ]
        },
        {
          "name": "stderr",
          "output_type": "stream",
          "text": [
            "WARNING:pyngrok.process.ngrok:t=2025-05-11T11:03:43+0000 lvl=warn msg=\"can't bind default web address, trying alternatives\" obj=web addr=127.0.0.1:4040\n"
          ]
        },
        {
          "name": "stdout",
          "output_type": "stream",
          "text": [
            " * ngrok tunnel \"https://a200-104-196-210-178.ngrok-free.app\" -> \"http://127.0.0.1:4040\"\n"
          ]
        }
      ],
      "source": [
        "# Optional: use ngrok to expose Spark GUI (requires ngrok account)\n",
        "from pyngrok import ngrok, conf\n",
        "import getpass\n",
        "\n",
        "print(\"Enter your authtoken, which can be copied \"\n",
        "\"from https://dashboard.ngrok.com/get-started/your-authtoken\")\n",
        "conf.get_default().auth_token = getpass.getpass()\n",
        "\n",
        "ui_port = 4040\n",
        "public_url = ngrok.connect(ui_port).public_url\n",
        "print(f\" * ngrok tunnel \\\"{public_url}\\\" -> \\\"http://127.0.0.1:{ui_port}\\\"\")"
      ]
    },
    {
      "cell_type": "markdown",
      "metadata": {
        "id": "PIYM74U4IOmF"
      },
      "source": [
        "### Configure AWS credentials\n"
      ]
    },
    {
      "cell_type": "markdown",
      "metadata": {
        "id": "EaqigKSBIXFB"
      },
      "source": [
        "**Important**: you need to copy your AWS credentials to file named `aws_credentials`. Format:\n",
        "```\n",
        "aws_access_key_id=<access_key>\n",
        "aws_secret_access_key=<secret_key>\n",
        "aws_session_token=<session_token>\n",
        "```\n",
        "In AWS Academy you can find your credentials under AWS Details -> AWS CLI -> Show button\n",
        "\n",
        "![aws_credentials.png](data:image/png;base64,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)"
      ]
    },
    {
      "cell_type": "code",
      "execution_count": null,
      "metadata": {
        "id": "VT4oCdoqUKsW"
      },
      "outputs": [],
      "source": [
        "# Read credentials from the file\n",
        "credentials = {}\n",
        "with open(\"/content/aws_credentials\", \"r\") as f:\n",
        "    for line in f:\n",
        "        key, value = line.strip().split(\"=\", 1)\n",
        "        credentials[key] = value\n",
        "\n",
        "# Extract credentials\n",
        "AWS_ACCESS_KEY = credentials[\"aws_access_key_id\"]\n",
        "AWS_SECRET_KEY = credentials[\"aws_secret_access_key\"]\n",
        "AWS_SESSION_TOKEN = credentials[\"aws_session_token\"]"
      ]
    },
    {
      "cell_type": "code",
      "execution_count": null,
      "metadata": {
        "id": "NYuq4MC7ROiE"
      },
      "outputs": [],
      "source": [
        "spark.sparkContext._jsc.hadoopConfiguration().set(\"fs.s3a.access.key\", AWS_ACCESS_KEY)\n",
        "spark.sparkContext._jsc.hadoopConfiguration().set(\"fs.s3a.secret.key\", AWS_SECRET_KEY)\n",
        "spark.sparkContext._jsc.hadoopConfiguration().set(\"fs.s3a.session.token\", AWS_SESSION_TOKEN)\n",
        "# Additional S3A configuration (optional but recommended)\n",
        "# spark.sparkContext._jsc.hadoopConfiguration().set(\"fs.s3a.impl\", \"org.apache.hadoop.fs.s3a.S3AFileSystem\")"
      ]
    },
    {
      "cell_type": "markdown",
      "metadata": {
        "id": "T_Scp2DS3eQx"
      },
      "source": [
        "### Reading OpenAQ data from AWS S3\n",
        "\n",
        "OpenAQ project: https://openaq.org/\n",
        "\n",
        "Registry of AWS Open Data: https://registry.opendata.aws/openaq/\n",
        "\n",
        "S3 bucket structure: https://docs.openaq.org/aws/about\n",
        "\n",
        "Now we can read a small sample of data:"
      ]
    },
    {
      "cell_type": "code",
      "execution_count": null,
      "metadata": {
        "id": "Qz4_tdDO3eQy"
      },
      "outputs": [],
      "source": [
        "smog_df = spark \\\n",
        "    .read \\\n",
        "    .format(\"csv\") \\\n",
        "    .option(\"compression\", \"gzip\") \\\n",
        "    .option(\"header\", True) \\\n",
        "    .load(\"s3a://openaq-data-archive/records/csv.gz/locationid=100*/year=2022/month=05/location-100*-2022050*.csv.gz\")\n",
        "\n",
        "    # Data from one day in one location:\n",
        "    #.load(\"s3a://openaq-data-archive/records/csv.gz/locationid=2178/year=2022/month=05/location-2178-20220503.csv.gz\")\n",
        "\n",
        "    # Data from May 2002 from multiple locations:\n",
        "    #.load(\"s3a://openaq-data-archive/records/csv.gz/locationid=10*/year=2022/month=05/*.csv.gz\")\n"
      ]
    },
    {
      "cell_type": "code",
      "execution_count": null,
      "metadata": {
        "colab": {
          "base_uri": "https://localhost:8080/"
        },
        "id": "d142iL0S3eQy",
        "outputId": "a81f03d7-53c2-4ea5-f897-dd3c17d65839"
      },
      "outputs": [
        {
          "data": {
            "text/plain": [
              "1500"
            ]
          },
          "execution_count": 8,
          "metadata": {},
          "output_type": "execute_result"
        }
      ],
      "source": [
        "smog_df.count()"
      ]
    },
    {
      "cell_type": "code",
      "execution_count": null,
      "metadata": {
        "colab": {
          "base_uri": "https://localhost:8080/"
        },
        "id": "upFDfmdC3eQy",
        "outputId": "988b53a2-bcf0-41a1-bca0-70cea28f976b"
      },
      "outputs": [
        {
          "name": "stdout",
          "output_type": "stream",
          "text": [
            "root\n",
            " |-- location_id: string (nullable = true)\n",
            " |-- sensors_id: string (nullable = true)\n",
            " |-- location: string (nullable = true)\n",
            " |-- datetime: string (nullable = true)\n",
            " |-- lat: string (nullable = true)\n",
            " |-- lon: string (nullable = true)\n",
            " |-- parameter: string (nullable = true)\n",
            " |-- units: string (nullable = true)\n",
            " |-- value: string (nullable = true)\n",
            "\n"
          ]
        }
      ],
      "source": [
        "smog_df.printSchema()"
      ]
    },
    {
      "cell_type": "code",
      "execution_count": null,
      "metadata": {
        "colab": {
          "base_uri": "https://localhost:8080/"
        },
        "id": "jSwiG0te3eQz",
        "outputId": "0c503785-699e-48f8-8628-2eecaadeae7d"
      },
      "outputs": [
        {
          "name": "stdout",
          "output_type": "stream",
          "text": [
            "+-----------+----------+--------------------------+-------------------------+----------------+----------------+---------+-----+------+\n",
            "|location_id|sensors_id|location                  |datetime                 |lat             |lon             |parameter|units|value |\n",
            "+-----------+----------+--------------------------+-------------------------+----------------+----------------+---------+-----+------+\n",
            "|100        |4147      |Badhoevedorp-Sloterweg-100|2022-05-03T04:00:00+02:00|52.334          |4.77401         |pm25     |µg/m³|-999.0|\n",
            "|100        |4231      |Badhoevedorp-Sloterweg-100|2022-05-09T11:00:00+02:00|52.334          |4.77401         |pm10     |µg/m³|-999.0|\n",
            "|1006       |1813      |Painesville-1006          |2022-05-03T18:00:00-04:00|41.726811       |-81.242156      |pm25     |µg/m³|8.9   |\n",
            "|1004       |4662      |Padre Las Casas II-1004   |2022-05-09T13:00:00-01:00|-38.764767451719|-72.598795682209|pm10     |µg/m³|49.0  |\n",
            "|1004       |1808      |Padre Las Casas II-1004   |2022-05-09T12:00:00-01:00|-38.764767451719|-72.598795682209|pm25     |µg/m³|52.0  |\n",
            "|1004       |1808      |Padre Las Casas II-1004   |2022-05-09T17:00:00-01:00|-38.764767451719|-72.598795682209|pm25     |µg/m³|49.0  |\n",
            "|1000       |1802      |Presque Isle Riversi-1000 |2022-05-05T11:00:00-04:00|46.682299       |-68.016195      |pm25     |µg/m³|1.0   |\n",
            "|1009       |1818      |Palisade Ozone-1009       |2022-05-07T20:00:00-06:00|39.1306         |-108.3139       |o3       |ppm  |0.048 |\n",
            "|1002       |1805      |Pacific-1002              |2022-05-07T15:00:00-05:00|38.4902         |-90.7052        |o3       |ppm  |0.052 |\n",
            "+-----------+----------+--------------------------+-------------------------+----------------+----------------+---------+-----+------+\n",
            "\n"
          ]
        }
      ],
      "source": [
        "# Sample 1% of the data and show 10 records\n",
        "smog_df.sample(fraction=0.01).limit(10).show(truncate=False)"
      ]
    },
    {
      "cell_type": "markdown",
      "metadata": {
        "id": "T5iFvLA659Qc"
      },
      "source": [
        "### Reading extended locations data"
      ]
    },
    {
      "cell_type": "markdown",
      "metadata": {
        "id": "PwipR8Q16bTZ"
      },
      "source": [
        "Data in the S3 bucket contains only a few necessary fields -- parameter readings and a limited information about sensor locations.\n",
        "\n",
        "Additional information are available through OpenAQ API: https://api.openaq.org/\n",
        "\n",
        "File `openaq_locations.json` contains extended information about locations which was downloaded using this REST API.\n",
        "\n",
        "Data from this file joined with data in S3 can be used for more advanced queries.\n",
        "\n",
        "For start let's locate all locations in Kraków."
      ]
    },
    {
      "cell_type": "code",
      "execution_count": null,
      "metadata": {
        "id": "hjIeXCan3eQz"
      },
      "outputs": [],
      "source": [
        "from pyspark.sql.functions import col, asc, desc, max"
      ]
    },
    {
      "cell_type": "code",
      "execution_count": null,
      "metadata": {
        "colab": {
          "base_uri": "https://localhost:8080/"
        },
        "id": "D_zkVY53qDKN",
        "outputId": "b07aabdb-7aeb-401c-a014-55b78999d849"
      },
      "outputs": [
        {
          "name": "stdout",
          "output_type": "stream",
          "text": [
            "--2025-05-11 11:23:12--  https://github.com/dice-dydakt/datasets/raw/refs/heads/main/openaq_locations.json.gz\n",
            "Resolving github.com (github.com)... 140.82.112.3\n",
            "Connecting to github.com (github.com)|140.82.112.3|:443... connected.\n",
            "HTTP request sent, awaiting response... 302 Found\n",
            "Location: https://raw.githubusercontent.com/dice-dydakt/datasets/refs/heads/main/openaq_locations.json.gz [following]\n",
            "--2025-05-11 11:23:12--  https://raw.githubusercontent.com/dice-dydakt/datasets/refs/heads/main/openaq_locations.json.gz\n",
            "Resolving raw.githubusercontent.com (raw.githubusercontent.com)... 185.199.108.133, 185.199.111.133, 185.199.110.133, ...\n",
            "Connecting to raw.githubusercontent.com (raw.githubusercontent.com)|185.199.108.133|:443... connected.\n",
            "HTTP request sent, awaiting response... 200 OK\n",
            "Length: 1834423 (1.7M) [application/octet-stream]\n",
            "Saving to: ‘openaq_locations.json.gz’\n",
            "\n",
            "openaq_locations.js 100%[===================>]   1.75M  --.-KB/s    in 0.07s   \n",
            "\n",
            "2025-05-11 11:23:12 (25.5 MB/s) - ‘openaq_locations.json.gz’ saved [1834423/1834423]\n",
            "\n"
          ]
        }
      ],
      "source": [
        "# Download and upack OpenAQ locations data file\n",
        "!wget https://github.com/dice-dydakt/datasets/raw/refs/heads/main/openaq_locations.json.gz && gunzip -f openaq_locations.json.gz"
      ]
    },
    {
      "cell_type": "code",
      "execution_count": null,
      "metadata": {
        "colab": {
          "base_uri": "https://localhost:8080/",
          "height": 937
        },
        "id": "jC7_CF4dp9Ok",
        "outputId": "5a357ca7-b935-43c2-f6e9-e44e146276a4"
      },
      "outputs": [
        {
          "data": {
            "text/plain": [
              "18798"
            ]
          },
          "metadata": {},
          "output_type": "display_data"
        },
        {
          "name": "stdout",
          "output_type": "stream",
          "text": [
            "root\n",
            " |-- bounds: array (nullable = true)\n",
            " |    |-- element: double (containsNull = true)\n",
            " |-- coordinates: struct (nullable = true)\n",
            " |    |-- latitude: double (nullable = true)\n",
            " |    |-- longitude: double (nullable = true)\n",
            " |-- country: struct (nullable = true)\n",
            " |    |-- code: string (nullable = true)\n",
            " |    |-- id: long (nullable = true)\n",
            " |    |-- name: string (nullable = true)\n",
            " |-- datetimeFirst: struct (nullable = true)\n",
            " |    |-- local: string (nullable = true)\n",
            " |    |-- utc: string (nullable = true)\n",
            " |-- datetimeLast: struct (nullable = true)\n",
            " |    |-- local: string (nullable = true)\n",
            " |    |-- utc: string (nullable = true)\n",
            " |-- distance: string (nullable = true)\n",
            " |-- id: long (nullable = true)\n",
            " |-- instruments: array (nullable = true)\n",
            " |    |-- element: struct (containsNull = true)\n",
            " |    |    |-- id: long (nullable = true)\n",
            " |    |    |-- name: string (nullable = true)\n",
            " |-- isMobile: boolean (nullable = true)\n",
            " |-- isMonitor: boolean (nullable = true)\n",
            " |-- licenses: array (nullable = true)\n",
            " |    |-- element: struct (containsNull = true)\n",
            " |    |    |-- attribution: struct (nullable = true)\n",
            " |    |    |    |-- name: string (nullable = true)\n",
            " |    |    |    |-- url: string (nullable = true)\n",
            " |    |    |-- dateFrom: string (nullable = true)\n",
            " |    |    |-- dateTo: string (nullable = true)\n",
            " |    |    |-- id: long (nullable = true)\n",
            " |    |    |-- name: string (nullable = true)\n",
            " |-- locality: string (nullable = true)\n",
            " |-- name: string (nullable = true)\n",
            " |-- owner: struct (nullable = true)\n",
            " |    |-- id: long (nullable = true)\n",
            " |    |-- name: string (nullable = true)\n",
            " |-- provider: struct (nullable = true)\n",
            " |    |-- id: long (nullable = true)\n",
            " |    |-- name: string (nullable = true)\n",
            " |-- sensors: array (nullable = true)\n",
            " |    |-- element: struct (containsNull = true)\n",
            " |    |    |-- id: long (nullable = true)\n",
            " |    |    |-- name: string (nullable = true)\n",
            " |    |    |-- parameter: struct (nullable = true)\n",
            " |    |    |    |-- displayName: string (nullable = true)\n",
            " |    |    |    |-- id: long (nullable = true)\n",
            " |    |    |    |-- name: string (nullable = true)\n",
            " |    |    |    |-- units: string (nullable = true)\n",
            " |-- timezone: string (nullable = true)\n",
            "\n"
          ]
        }
      ],
      "source": [
        "# Let's load the file as Spark dataframe and print the schema\n",
        "# Note: the file is small, so we could have used Pandas for this\n",
        "\n",
        "df = spark.read.option(\"multiLine\", True).json(\"openaq_locations.json\")\n",
        "display(df.select(\"id\").distinct().count())\n",
        "df.printSchema()"
      ]
    },
    {
      "cell_type": "code",
      "execution_count": null,
      "metadata": {
        "colab": {
          "base_uri": "https://localhost:8080/"
        },
        "id": "QkorNkhIq2D2",
        "outputId": "0c9ddb58-cbbc-4556-8369-68ff1a9da6f5"
      },
      "outputs": [
        {
          "name": "stdout",
          "output_type": "stream",
          "text": [
            "+----+----------------------------+-------------------+------------+-------------+------------------+-------------------+\n",
            "|id  |name                        |timezone           |country_code|country_name |latitude          |longitude          |\n",
            "+----+----------------------------+-------------------+------------+-------------+------------------+-------------------+\n",
            "|18  |SPARTAN - Vietnam Acad. Sci.|Asia/Bangkok       |VN          |Vietnam      |21.048            |105.8              |\n",
            "|63  |Philippine-Stelleweg        |Europe/Amsterdam   |NL          |Netherlands  |51.294498000233624|3.749483999842556  |\n",
            "|90  |Misheel expo                |Asia/Ulaanbaatar   |MN          |Mongolia     |47.8943389        |106.8824722        |\n",
            "|284 |Hoxeyville                  |America/Detroit    |US          |United States|44.180901         |-85.738998         |\n",
            "|454 |Huntington Wildlife         |America/New_York   |US          |United States|43.97             |-74.22             |\n",
            "|486 |Columbia Falls              |America/Denver     |US          |United States|48.363694         |-114.189272        |\n",
            "|559 |Fall River                  |America/New_York   |US          |United States|41.6833           |-71.169701         |\n",
            "|565 |Prince Edward               |America/New_York   |US          |United States|37.17             |-78.31             |\n",
            "|656 |Buffalo                     |America/New_York   |US          |United States|42.8781           |-78.8094           |\n",
            "|793 |TracyAP                     |America/Los_Angeles|US          |United States|37.6825           |-121.4406          |\n",
            "|1041|Pinnacles NM                |America/Los_Angeles|US          |United States|36.485001         |-121.155602        |\n",
            "|1167|Great Basin NP              |America/Los_Angeles|US          |United States|39.0053           |-114.2158          |\n",
            "|1325|Oakhill                     |America/New_York   |US          |United States|41.096158         |-80.658908         |\n",
            "|1334|Front Street                |America/Chicago    |US          |United States|39.13198          |-94.53128          |\n",
            "|1381|Winnipeg_Ellens             |America/Winnipeg   |CA          |Canada       |49.9489           |-97.3964           |\n",
            "|1452|Ward                        |America/Chicago    |US          |United States|32.36253          |-88.27792          |\n",
            "|1527|Vancouver-Blairmont         |America/Los_Angeles|US          |United States|45.6166           |-122.516602        |\n",
            "|1548|Bonifay                     |America/Chicago    |US          |United States|30.8475           |-85.6044           |\n",
            "|1799|Midlothian OFW C52          |America/Chicago    |US          |United States|32.482081         |-97.026922         |\n",
            "|1950|Concord                     |America/Los_Angeles|US          |United States|37.93829999999999 |-122.02499999999999|\n",
            "+----+----------------------------+-------------------+------------+-------------+------------------+-------------------+\n",
            "only showing top 20 rows\n",
            "\n"
          ]
        }
      ],
      "source": [
        "# Select some useful columns and flatten the structure\n",
        "locations_df = df.select(\n",
        "    \"id\",\n",
        "    \"name\",\n",
        "    \"timezone\",\n",
        "    df[\"country.code\"].alias(\"country_code\"),\n",
        "    df[\"country.name\"].alias(\"country_name\"),\n",
        "    df.coordinates.latitude.alias(\"latitude\"),  # this way of selecting a nested column works too\n",
        "    df.coordinates.longitude.alias(\"longitude\")\n",
        ")\n",
        "\n",
        "# Show a sample of the flattened DataFrame\n",
        "locations_df.sample(fraction=0.01).show(truncate=False)"
      ]
    },
    {
      "cell_type": "code",
      "execution_count": null,
      "metadata": {
        "colab": {
          "base_uri": "https://localhost:8080/"
        },
        "id": "1pf5BHN1a4J3",
        "outputId": "718871ab-1bac-4748-cda6-51907c340774"
      },
      "outputs": [
        {
          "data": {
            "text/plain": [
              "363"
            ]
          },
          "execution_count": 16,
          "metadata": {},
          "output_type": "execute_result"
        }
      ],
      "source": [
        "# How many sensor locations in Poland are there?\n",
        "locations_df.filter(col('country_code')=='PL').count()"
      ]
    },
    {
      "cell_type": "code",
      "execution_count": null,
      "metadata": {
        "colab": {
          "base_uri": "https://localhost:8080/",
          "height": 363
        },
        "id": "CxtN1NCytCSr",
        "outputId": "fa4b0b8a-f99d-4053-df19-1d7e70da7d68"
      },
      "outputs": [
        {
          "data": {
            "application/vnd.google.colaboratory.intrinsic+json": {
              "summary": "{\n  \"name\": \"krak_locations_df\",\n  \"rows\": 10,\n  \"fields\": [\n    {\n      \"column\": \"name\",\n      \"properties\": {\n        \"dtype\": \"string\",\n        \"num_unique_values\": 10,\n        \"samples\": [\n          \"Krak\\u00f3w, Aleja Krasi\\u0144skiego\",\n          \"Piotrk\\u00f3w Trybunalski, ul. Krakowskie Przedmie\\u015bcie\",\n          \"Krak\\u00f3w, os. Swoszowice\"\n        ],\n        \"semantic_type\": \"\",\n        \"description\": \"\"\n      }\n    },\n    {\n      \"column\": \"id\",\n      \"properties\": {\n        \"dtype\": \"number\",\n        \"std\": 837795,\n        \"min\": 7239,\n        \"max\": 2658600,\n        \"num_unique_values\": 10,\n        \"samples\": [\n          10752,\n          7251,\n          9550\n        ],\n        \"semantic_type\": \"\",\n        \"description\": \"\"\n      }\n    }\n  ]\n}",
              "type": "dataframe"
            },
            "text/html": [
              "\n",
              "  <div id=\"df-e54ea356-e0da-485c-b5be-2d0775849481\" class=\"colab-df-container\">\n",
              "    <div>\n",
              "<style scoped>\n",
              "    .dataframe tbody tr th:only-of-type {\n",
              "        vertical-align: middle;\n",
              "    }\n",
              "\n",
              "    .dataframe tbody tr th {\n",
              "        vertical-align: top;\n",
              "    }\n",
              "\n",
              "    .dataframe thead th {\n",
              "        text-align: right;\n",
              "    }\n",
              "</style>\n",
              "<table border=\"1\" class=\"dataframe\">\n",
              "  <thead>\n",
              "    <tr style=\"text-align: right;\">\n",
              "      <th></th>\n",
              "      <th>name</th>\n",
              "      <th>id</th>\n",
              "    </tr>\n",
              "  </thead>\n",
              "  <tbody>\n",
              "    <tr>\n",
              "      <th>0</th>\n",
              "      <td>Kraków, ul. Bujaka</td>\n",
              "      <td>7239</td>\n",
              "    </tr>\n",
              "    <tr>\n",
              "      <th>1</th>\n",
              "      <td>Piotrków Trybunalski, ul. Krakowskie Przedmieście</td>\n",
              "      <td>7251</td>\n",
              "    </tr>\n",
              "    <tr>\n",
              "      <th>2</th>\n",
              "      <td>Kraków, ul. Złoty Róg</td>\n",
              "      <td>9464</td>\n",
              "    </tr>\n",
              "    <tr>\n",
              "      <th>3</th>\n",
              "      <td>Kraków, ul. Dietla</td>\n",
              "      <td>9465</td>\n",
              "    </tr>\n",
              "    <tr>\n",
              "      <th>4</th>\n",
              "      <td>Kraków, os. Wadów</td>\n",
              "      <td>9546</td>\n",
              "    </tr>\n",
              "    <tr>\n",
              "      <th>5</th>\n",
              "      <td>Kraków, os. Swoszowice</td>\n",
              "      <td>9550</td>\n",
              "    </tr>\n",
              "    <tr>\n",
              "      <th>6</th>\n",
              "      <td>Kraków, os. Piastów</td>\n",
              "      <td>9555</td>\n",
              "    </tr>\n",
              "    <tr>\n",
              "      <th>7</th>\n",
              "      <td>Kraków, ul. Bulwarowa</td>\n",
              "      <td>10516</td>\n",
              "    </tr>\n",
              "    <tr>\n",
              "      <th>8</th>\n",
              "      <td>Kraków, Aleja Krasińskiego</td>\n",
              "      <td>10752</td>\n",
              "    </tr>\n",
              "    <tr>\n",
              "      <th>9</th>\n",
              "      <td>Kraków, ul. Kamieńskiego</td>\n",
              "      <td>2658600</td>\n",
              "    </tr>\n",
              "  </tbody>\n",
              "</table>\n",
              "</div>\n",
              "    <div class=\"colab-df-buttons\">\n",
              "\n",
              "  <div class=\"colab-df-container\">\n",
              "    <button class=\"colab-df-convert\" onclick=\"convertToInteractive('df-e54ea356-e0da-485c-b5be-2d0775849481')\"\n",
              "            title=\"Convert this dataframe to an interactive table.\"\n",
              "            style=\"display:none;\">\n",
              "\n",
              "  <svg xmlns=\"http://www.w3.org/2000/svg\" height=\"24px\" viewBox=\"0 -960 960 960\">\n",
              "    <path d=\"M120-120v-720h720v720H120Zm60-500h600v-160H180v160Zm220 220h160v-160H400v160Zm0 220h160v-160H400v160ZM180-400h160v-160H180v160Zm440 0h160v-160H620v160ZM180-180h160v-160H180v160Zm440 0h160v-160H620v160Z\"/>\n",
              "  </svg>\n",
              "    </button>\n",
              "\n",
              "  <style>\n",
              "    .colab-df-container {\n",
              "      display:flex;\n",
              "      gap: 12px;\n",
              "    }\n",
              "\n",
              "    .colab-df-convert {\n",
              "      background-color: #E8F0FE;\n",
              "      border: none;\n",
              "      border-radius: 50%;\n",
              "      cursor: pointer;\n",
              "      display: none;\n",
              "      fill: #1967D2;\n",
              "      height: 32px;\n",
              "      padding: 0 0 0 0;\n",
              "      width: 32px;\n",
              "    }\n",
              "\n",
              "    .colab-df-convert:hover {\n",
              "      background-color: #E2EBFA;\n",
              "      box-shadow: 0px 1px 2px rgba(60, 64, 67, 0.3), 0px 1px 3px 1px rgba(60, 64, 67, 0.15);\n",
              "      fill: #174EA6;\n",
              "    }\n",
              "\n",
              "    .colab-df-buttons div {\n",
              "      margin-bottom: 4px;\n",
              "    }\n",
              "\n",
              "    [theme=dark] .colab-df-convert {\n",
              "      background-color: #3B4455;\n",
              "      fill: #D2E3FC;\n",
              "    }\n",
              "\n",
              "    [theme=dark] .colab-df-convert:hover {\n",
              "      background-color: #434B5C;\n",
              "      box-shadow: 0px 1px 3px 1px rgba(0, 0, 0, 0.15);\n",
              "      filter: drop-shadow(0px 1px 2px rgba(0, 0, 0, 0.3));\n",
              "      fill: #FFFFFF;\n",
              "    }\n",
              "  </style>\n",
              "\n",
              "    <script>\n",
              "      const buttonEl =\n",
              "        document.querySelector('#df-e54ea356-e0da-485c-b5be-2d0775849481 button.colab-df-convert');\n",
              "      buttonEl.style.display =\n",
              "        google.colab.kernel.accessAllowed ? 'block' : 'none';\n",
              "\n",
              "      async function convertToInteractive(key) {\n",
              "        const element = document.querySelector('#df-e54ea356-e0da-485c-b5be-2d0775849481');\n",
              "        const dataTable =\n",
              "          await google.colab.kernel.invokeFunction('convertToInteractive',\n",
              "                                                    [key], {});\n",
              "        if (!dataTable) return;\n",
              "\n",
              "        const docLinkHtml = 'Like what you see? Visit the ' +\n",
              "          '<a target=\"_blank\" href=https://colab.research.google.com/notebooks/data_table.ipynb>data table notebook</a>'\n",
              "          + ' to learn more about interactive tables.';\n",
              "        element.innerHTML = '';\n",
              "        dataTable['output_type'] = 'display_data';\n",
              "        await google.colab.output.renderOutput(dataTable, element);\n",
              "        const docLink = document.createElement('div');\n",
              "        docLink.innerHTML = docLinkHtml;\n",
              "        element.appendChild(docLink);\n",
              "      }\n",
              "    </script>\n",
              "  </div>\n",
              "\n",
              "\n",
              "    <div id=\"df-54ee6e91-7319-434a-bfe6-fef733dd2999\">\n",
              "      <button class=\"colab-df-quickchart\" onclick=\"quickchart('df-54ee6e91-7319-434a-bfe6-fef733dd2999')\"\n",
              "                title=\"Suggest charts\"\n",
              "                style=\"display:none;\">\n",
              "\n",
              "<svg xmlns=\"http://www.w3.org/2000/svg\" height=\"24px\"viewBox=\"0 0 24 24\"\n",
              "     width=\"24px\">\n",
              "    <g>\n",
              "        <path d=\"M19 3H5c-1.1 0-2 .9-2 2v14c0 1.1.9 2 2 2h14c1.1 0 2-.9 2-2V5c0-1.1-.9-2-2-2zM9 17H7v-7h2v7zm4 0h-2V7h2v10zm4 0h-2v-4h2v4z\"/>\n",
              "    </g>\n",
              "</svg>\n",
              "      </button>\n",
              "\n",
              "<style>\n",
              "  .colab-df-quickchart {\n",
              "      --bg-color: #E8F0FE;\n",
              "      --fill-color: #1967D2;\n",
              "      --hover-bg-color: #E2EBFA;\n",
              "      --hover-fill-color: #174EA6;\n",
              "      --disabled-fill-color: #AAA;\n",
              "      --disabled-bg-color: #DDD;\n",
              "  }\n",
              "\n",
              "  [theme=dark] .colab-df-quickchart {\n",
              "      --bg-color: #3B4455;\n",
              "      --fill-color: #D2E3FC;\n",
              "      --hover-bg-color: #434B5C;\n",
              "      --hover-fill-color: #FFFFFF;\n",
              "      --disabled-bg-color: #3B4455;\n",
              "      --disabled-fill-color: #666;\n",
              "  }\n",
              "\n",
              "  .colab-df-quickchart {\n",
              "    background-color: var(--bg-color);\n",
              "    border: none;\n",
              "    border-radius: 50%;\n",
              "    cursor: pointer;\n",
              "    display: none;\n",
              "    fill: var(--fill-color);\n",
              "    height: 32px;\n",
              "    padding: 0;\n",
              "    width: 32px;\n",
              "  }\n",
              "\n",
              "  .colab-df-quickchart:hover {\n",
              "    background-color: var(--hover-bg-color);\n",
              "    box-shadow: 0 1px 2px rgba(60, 64, 67, 0.3), 0 1px 3px 1px rgba(60, 64, 67, 0.15);\n",
              "    fill: var(--button-hover-fill-color);\n",
              "  }\n",
              "\n",
              "  .colab-df-quickchart-complete:disabled,\n",
              "  .colab-df-quickchart-complete:disabled:hover {\n",
              "    background-color: var(--disabled-bg-color);\n",
              "    fill: var(--disabled-fill-color);\n",
              "    box-shadow: none;\n",
              "  }\n",
              "\n",
              "  .colab-df-spinner {\n",
              "    border: 2px solid var(--fill-color);\n",
              "    border-color: transparent;\n",
              "    border-bottom-color: var(--fill-color);\n",
              "    animation:\n",
              "      spin 1s steps(1) infinite;\n",
              "  }\n",
              "\n",
              "  @keyframes spin {\n",
              "    0% {\n",
              "      border-color: transparent;\n",
              "      border-bottom-color: var(--fill-color);\n",
              "      border-left-color: var(--fill-color);\n",
              "    }\n",
              "    20% {\n",
              "      border-color: transparent;\n",
              "      border-left-color: var(--fill-color);\n",
              "      border-top-color: var(--fill-color);\n",
              "    }\n",
              "    30% {\n",
              "      border-color: transparent;\n",
              "      border-left-color: var(--fill-color);\n",
              "      border-top-color: var(--fill-color);\n",
              "      border-right-color: var(--fill-color);\n",
              "    }\n",
              "    40% {\n",
              "      border-color: transparent;\n",
              "      border-right-color: var(--fill-color);\n",
              "      border-top-color: var(--fill-color);\n",
              "    }\n",
              "    60% {\n",
              "      border-color: transparent;\n",
              "      border-right-color: var(--fill-color);\n",
              "    }\n",
              "    80% {\n",
              "      border-color: transparent;\n",
              "      border-right-color: var(--fill-color);\n",
              "      border-bottom-color: var(--fill-color);\n",
              "    }\n",
              "    90% {\n",
              "      border-color: transparent;\n",
              "      border-bottom-color: var(--fill-color);\n",
              "    }\n",
              "  }\n",
              "</style>\n",
              "\n",
              "      <script>\n",
              "        async function quickchart(key) {\n",
              "          const quickchartButtonEl =\n",
              "            document.querySelector('#' + key + ' button');\n",
              "          quickchartButtonEl.disabled = true;  // To prevent multiple clicks.\n",
              "          quickchartButtonEl.classList.add('colab-df-spinner');\n",
              "          try {\n",
              "            const charts = await google.colab.kernel.invokeFunction(\n",
              "                'suggestCharts', [key], {});\n",
              "          } catch (error) {\n",
              "            console.error('Error during call to suggestCharts:', error);\n",
              "          }\n",
              "          quickchartButtonEl.classList.remove('colab-df-spinner');\n",
              "          quickchartButtonEl.classList.add('colab-df-quickchart-complete');\n",
              "        }\n",
              "        (() => {\n",
              "          let quickchartButtonEl =\n",
              "            document.querySelector('#df-54ee6e91-7319-434a-bfe6-fef733dd2999 button');\n",
              "          quickchartButtonEl.style.display =\n",
              "            google.colab.kernel.accessAllowed ? 'block' : 'none';\n",
              "        })();\n",
              "      </script>\n",
              "    </div>\n",
              "\n",
              "    </div>\n",
              "  </div>\n"
            ],
            "text/plain": [
              "                                                name       id\n",
              "0                                 Kraków, ul. Bujaka     7239\n",
              "1  Piotrków Trybunalski, ul. Krakowskie Przedmieście     7251\n",
              "2                              Kraków, ul. Złoty Róg     9464\n",
              "3                                 Kraków, ul. Dietla     9465\n",
              "4                                  Kraków, os. Wadów     9546\n",
              "5                             Kraków, os. Swoszowice     9550\n",
              "6                                Kraków, os. Piastów     9555\n",
              "7                              Kraków, ul. Bulwarowa    10516\n",
              "8                         Kraków, Aleja Krasińskiego    10752\n",
              "9                           Kraków, ul. Kamieńskiego  2658600"
            ]
          },
          "execution_count": 17,
          "metadata": {},
          "output_type": "execute_result"
        }
      ],
      "source": [
        "# Filter out only those locations which are in Kraków\n",
        "krak_locations_df = locations_df.filter(locations_df.country_code == 'PL').select('name', 'id').filter(col('name').contains('Krak'))\n",
        "krak_locations_df.toPandas()"
      ]
    },
    {
      "cell_type": "code",
      "execution_count": null,
      "metadata": {
        "colab": {
          "base_uri": "https://localhost:8080/"
        },
        "id": "AMf9qec7wzbg",
        "outputId": "e185d13c-aa83-4656-a818-aa674265a774"
      },
      "outputs": [
        {
          "data": {
            "text/plain": [
              "['s3a://openaq-data-archive/records/csv.gz/locationid=7239/year=2022/month={05,06}/*.csv.gz',\n",
              " 's3a://openaq-data-archive/records/csv.gz/locationid=9464/year=2022/month={05,06}/*.csv.gz',\n",
              " 's3a://openaq-data-archive/records/csv.gz/locationid=9465/year=2022/month={05,06}/*.csv.gz',\n",
              " 's3a://openaq-data-archive/records/csv.gz/locationid=9546/year=2022/month={05,06}/*.csv.gz',\n",
              " 's3a://openaq-data-archive/records/csv.gz/locationid=9550/year=2022/month={05,06}/*.csv.gz',\n",
              " 's3a://openaq-data-archive/records/csv.gz/locationid=9555/year=2022/month={05,06}/*.csv.gz',\n",
              " 's3a://openaq-data-archive/records/csv.gz/locationid=10516/year=2022/month={05,06}/*.csv.gz',\n",
              " 's3a://openaq-data-archive/records/csv.gz/locationid=10752/year=2022/month={05,06}/*.csv.gz']"
            ]
          },
          "execution_count": 18,
          "metadata": {},
          "output_type": "execute_result"
        }
      ],
      "source": [
        "# Construct a list of file names for the locations in Krakow\n",
        "\n",
        "# Copy a dataframe column into a Python list\n",
        "krak_location_ids = krak_locations_df.select(\"id\").rdd.flatMap(lambda x: x).collect()\n",
        "\n",
        "# Remove two locations:\n",
        "krak_location_ids.remove(2658600) # doesn't work\n",
        "krak_location_ids.remove(7251)    # not Kraków\n",
        "\n",
        "# Construct file paths to read data from May and June 2022 for all these locations\n",
        "s3_paths = [\n",
        "    f\"s3a://openaq-data-archive/records/csv.gz/locationid={loc_id}/year=2022/month={{05,06}}/*.csv.gz\"\n",
        "    for loc_id in krak_location_ids\n",
        "]\n",
        "s3_paths"
      ]
    },
    {
      "cell_type": "code",
      "execution_count": null,
      "metadata": {
        "id": "BwV3V647xSHu"
      },
      "outputs": [],
      "source": [
        "# Read only data from these files!\n",
        "smog_df = spark \\\n",
        "    .read \\\n",
        "    .format(\"csv\") \\\n",
        "    .option(\"compression\", \"gzip\") \\\n",
        "    .option(\"header\", True) \\\n",
        "    .load(s3_paths)"
      ]
    },
    {
      "cell_type": "code",
      "execution_count": null,
      "metadata": {
        "id": "gH-FBwcA3eQz"
      },
      "outputs": [],
      "source": [
        "smog_df = smog_df.withColumn(\"value\", smog_df.value.cast('double'))"
      ]
    },
    {
      "cell_type": "code",
      "execution_count": null,
      "metadata": {
        "colab": {
          "base_uri": "https://localhost:8080/"
        },
        "id": "RhFg3PZD5Io5",
        "outputId": "c7c9d126-4bd4-43ca-f816-1a5c4ba3e3ad"
      },
      "outputs": [
        {
          "data": {
            "text/plain": [
              "DataFrame[location_id: string, sensors_id: string, location: string, datetime: string, lat: string, lon: string, parameter: string, units: string, value: double]"
            ]
          },
          "execution_count": 21,
          "metadata": {},
          "output_type": "execute_result"
        }
      ],
      "source": [
        "# Uncomment and run this, then run queries again (multiple times) and observe their execution times\n",
        "# Further queries on smog_df will run much faster when we cache this data set in memory\n",
        "smog_df.cache()"
      ]
    },
    {
      "cell_type": "code",
      "execution_count": null,
      "metadata": {
        "colab": {
          "base_uri": "https://localhost:8080/"
        },
        "id": "cJRNEEoJ1nPY",
        "outputId": "003e6bd8-3159-4364-fc9c-c2de2ada6e6e"
      },
      "outputs": [
        {
          "data": {
            "text/plain": [
              "11643"
            ]
          },
          "execution_count": 22,
          "metadata": {},
          "output_type": "execute_result"
        }
      ],
      "source": [
        "# Run multiple times and observe the cell execution time\n",
        "smog_df.count()"
      ]
    },
    {
      "cell_type": "markdown",
      "metadata": {
        "id": "QEyi60x63eQz"
      },
      "source": [
        "### Example queries"
      ]
    },
    {
      "cell_type": "code",
      "execution_count": null,
      "metadata": {
        "colab": {
          "base_uri": "https://localhost:8080/"
        },
        "id": "e_PSr6Cg3eQz",
        "outputId": "807691bd-270d-4166-bd9f-4d5f39fada49"
      },
      "outputs": [
        {
          "name": "stdout",
          "output_type": "stream",
          "text": [
            "+---------+\n",
            "|parameter|\n",
            "+---------+\n",
            "|       bc|\n",
            "|      so2|\n",
            "|       co|\n",
            "|     pm10|\n",
            "|      no2|\n",
            "|     pm25|\n",
            "|       o3|\n",
            "+---------+\n",
            "\n"
          ]
        }
      ],
      "source": [
        "smog_df.select('parameter').distinct().show()"
      ]
    },
    {
      "cell_type": "code",
      "execution_count": null,
      "metadata": {
        "colab": {
          "base_uri": "https://localhost:8080/"
        },
        "id": "7bw0Jy153eQz",
        "outputId": "0a3b4ab6-e3b8-4299-a558-1df3c329e14e"
      },
      "outputs": [
        {
          "name": "stdout",
          "output_type": "stream",
          "text": [
            "+--------------------------------+--------+\n",
            "|location                        |max_pm10|\n",
            "+--------------------------------+--------+\n",
            "|Kraków, os. Piastów-9555        |123.735 |\n",
            "|Kraków, ul. Bulwarowa-10516     |92.1151 |\n",
            "|Kraków, Aleja Krasińskiego-10752|90.8715 |\n",
            "|Kraków, os. Wadów-9546          |88.2342 |\n",
            "|Kraków, ul. Dietla-9465         |83.4921 |\n",
            "|Kraków, ul. Złoty Róg-9464      |72.5665 |\n",
            "|Kraków, ul. Bujaka-7239         |62.8579 |\n",
            "|Kraków, os. Swoszowice-9550     |50.1133 |\n",
            "+--------------------------------+--------+\n",
            "\n"
          ]
        }
      ],
      "source": [
        "# Analyze this query - what is its purpose?\n",
        "max_pm10 = smog_df.filter(col('parameter')=='pm10')\\\n",
        "            .filter(col('value')>0.0)\\\n",
        "            .groupby('location').agg(max('value').alias('max_pm10'))\\\n",
        "            .sort(desc('max_pm10'))\n",
        "\n",
        "max_pm10.limit(100).show(truncate=False)"
      ]
    },
    {
      "cell_type": "code",
      "execution_count": null,
      "metadata": {
        "colab": {
          "base_uri": "https://localhost:8080/"
        },
        "id": "SeRQ_Ex83eQz",
        "outputId": "ad22a344-b7ad-4594-d156-961ab7397c77"
      },
      "outputs": [
        {
          "name": "stdout",
          "output_type": "stream",
          "text": [
            "root\n",
            " |-- location: string (nullable = true)\n",
            " |-- max_pm10: double (nullable = true)\n",
            "\n"
          ]
        }
      ],
      "source": [
        "max_pm10.printSchema()"
      ]
    },
    {
      "cell_type": "code",
      "execution_count": null,
      "metadata": {
        "colab": {
          "base_uri": "https://localhost:8080/",
          "height": 465
        },
        "id": "mqIssC6q3eQ0",
        "outputId": "4e29a910-3e2c-4011-e4d3-197372397450"
      },
      "outputs": [
        {
          "data": {
            "text/plain": [
              "<Axes: ylabel='location'>"
            ]
          },
          "execution_count": 26,
          "metadata": {},
          "output_type": "execute_result"
        },
        {
          "data": {
            "text/plain": [
              "<Figure size 640x480 with 0 Axes>"
            ]
          },
          "metadata": {},
          "output_type": "display_data"
        },
        {
          "data": {
            "image/png": "[encoded data removed]",
            "text/plain": [
              "<Figure size 640x480 with 1 Axes>"
            ]
          },
          "metadata": {},
          "output_type": "display_data"
        }
      ],
      "source": [
        "plt.figure()\n",
        "max_pm10.limit(10).toPandas().plot.barh(x='location')"
      ]
    },
    {
      "cell_type": "code",
      "execution_count": null,
      "metadata": {
        "id": "5mC6nbG4-CqY"
      },
      "outputs": [],
      "source": []
    },
    {
      "cell_type": "markdown",
      "metadata": {
        "id": "UhbdoAOE3eQ0"
      },
      "source": [
        "### Zadanie 1"
      ]
    },
    {
      "cell_type": "markdown",
      "metadata": {
        "id": "c8_QOMVn3eQ0"
      },
      "source": [
        "[1p.] Wczytaj dane dla kilkudziesięciu lokalizacji w Polsce z dłuższego okresu (na ile pozwoli pamięć) i znajdź spośród nich takie, w których średnie stężenie pyłu “pm10” było najwyższe (w całym badanym okresie). Wyniki posortuj malejąco po stężeniu pm10 i przedstaw na wykresie.\n"
      ]
    },
    {
      "cell_type": "code",
      "execution_count": null,
      "metadata": {
        "id": "wqmXG-e3fI5A"
      },
      "outputs": [],
      "source": [
        "locationsPL_df =locations_df.filter(locations_df.country_code == 'PL').select('name', 'id')\n",
        "locationsPL_df.toPandas()\n",
        "PL_location_ids = locationsPL_df.limit(50).select(\"id\").rdd.flatMap(lambda x: x).collect() # limit do 50 lokalizacji z Polski\n",
        "\n",
        "s3_paths = [\n",
        "    f\"s3a://openaq-data-archive/records/csv.gz/locationid={loc_id}/year=2022/month={{05,06}}/*.csv.gz\"\n",
        "    for loc_id in location_ids\n",
        "    for year in [2022, 2023]\n",
        "    for month in [5, 6]\n",
        "]\n",
        "\n",
        "smog_df = spark \\\n",
        "    .read \\\n",
        "    .format(\"csv\") \\\n",
        "    .option(\"compression\", \"gzip\") \\\n",
        "    .option(\"header\", True) \\\n",
        "    .load(s3_paths)\n",
        "\n",
        "smog_df = smog_df.withColumn(\"value\", smog_df.value.cast('double'))\n",
        "\n",
        "from pyspark.sql.functions import avg\n",
        "\n",
        "poland_pm10 = smog_df.filter((col('parameter') == 'pm10') & (col('value') > 0.0))\\\n",
        "                  .groupby('location')\\\n",
        "                  .agg(avg('value').alias('avg_pm10'))\\\n",
        "                  .orderBy(desc('avg_pm10'))\n",
        "\n",
        "# poland_pm10.limit(100).show(truncate=False) -> opcjonalnie\n",
        "plt.figure()\n",
        "poland_pm10.limit(10).toPandas().plot.barh(x = 'location')"
      ]
    },
    {
      "cell_type": "markdown",
      "metadata": {
        "id": "GPvDfmvC3eQ0"
      },
      "source": [
        "### Zadanie 2"
      ]
    },
    {
      "cell_type": "markdown",
      "metadata": {
        "id": "ZhiynSuV3eQ0"
      },
      "source": [
        "[1p.] Stwórz zapytanie, które dla każdej lokalizacji oblicza średnie stężenie wybranego parametru dla każdej godziny dnia (0-1, 1-2, ..., 23-24) i znajduje godzinę, w których średnia ta była najwyższa. Wyniki przedstaw na wykresie."
      ]
    },
    {
      "cell_type": "code",
      "execution_count": null,
      "metadata": {
        "id": "WmPJuhYulXU5"
      },
      "outputs": [],
      "source": [
        "# dla wybranego parametru pm10\n",
        "smog_df_hours = smog_df\\\n",
        "              .filter((col('parameter') == 'pm10') & (col('value') > 0.0))\\\n",
        "              .withColumn('hour', hour(col('date.local')))\n",
        "\n",
        "avg_by_hour = smog_df_hours.groupBy('location', 'hour')\\\n",
        "              .agg(avg('value').alias('avg_pm10'))\n",
        "\n",
        "from pyspark.sql.window import Window\n",
        "from pyspark.sql.functions import row_number\n",
        "\n",
        "window = Window.partitionBy(\"location\").orderBy(desc('avg_pm10'))\n",
        "\n",
        "peak_hour = avg_by_hour\\\n",
        "    .withColumn(\"rank\", row_number().over(window)) \\\n",
        "    .filter(col(\"rank\") == 1)\\\n",
        "    .select(\"location\", \"hour\", \"avg_pm10\")\\\n",
        "    .orderBy(\"hour\")\n",
        "\n",
        "peak_hour_df = peak_hour.toPandas()\n",
        "\n",
        "plt.figure()\n",
        "plt.barh(peak_hour_df['location'], peak_hour_df['hour'])"
      ]
    },
    {
      "cell_type": "markdown",
      "metadata": {
        "id": "Gg5-1nG43eQ0"
      },
      "source": [
        "### Zadanie 3"
      ]
    },
    {
      "cell_type": "markdown",
      "metadata": {
        "id": "s6FcsnPg3eQ0"
      },
      "source": [
        "[1p.] Stwórz wariant zapytania z zadania 2, który grupuje po dniach tygodnia (Pn-Nd). Dla każdej lokalizacji znajdź najwyższe średnie stężenie wybranego parametru w danym dniu tygodnia i wyniki posortuj malejąco. Wyniki przedstaw na wykresie.\n"
      ]
    },
    {
      "cell_type": "code",
      "execution_count": null,
      "metadata": {
        "id": "VnIZ7QA5nVEa"
      },
      "outputs": [],
      "source": [
        "from pyspark.sql.functions import col, avg, desc, dayofweek, when\n",
        "pm10_by_week = smog_df.filter((col('parameter') == 'pm10') & (col('value') > 0.0))\\\n",
        "                  .withColumn('weekday_num', dayofweek(col('date.local')))\n",
        "\n",
        "pm10_by_week = pm10_by_week.withColumn('weekday',\n",
        "    when(col('weekday_num') == 1, \"Nd\")\n",
        "    .when(col('weekday_num') == 2, \"Pn\")\n",
        "    .when(col('weekday_num') == 3, \"Wt\")\n",
        "    .when(col('weekday_num') == 4, \"Śr\")\n",
        "    .when(col('weekday_num') == 5, \"Cz\")\n",
        "    .when(col('weekday_num') == 6, \"Pt\")\n",
        "    .when(col('weekday_num') == 7, \"So\")\n",
        ")\n",
        "\n",
        "avg_by_weekday = pm10_by_week.groupBy('location', 'weekday')\\\n",
        "                .agg(avg('value').alias('avg_pm10'))\n",
        "\n",
        "\n",
        "window = Window.partitionBy('location').orderBy(desc('avg_pm10'))\n",
        "\n",
        "peak_day = avg_by_weekday\\\n",
        "          .withColumn('rank', row_number().over(window))\\\n",
        "          .filter(col('rank') == 1)\\\n",
        "          .select('location', 'weekday', 'avg_pm10')\\\n",
        "          .orderBy(desc('avg_pm10'))\n",
        "\n",
        "peak_day_df = peak_day.toPandas()\n",
        "plt.barh(peak_day_df['location'], peak_day_df['avg_pm10'])"
      ]
    },
    {
      "cell_type": "markdown",
      "metadata": {
        "id": "SZOJ-wP4ahpu"
      },
      "source": []
    }
  ],
  "metadata": {
    "application/vnd.databricks.v1+notebook": {
      "dashboards": [],
      "language": "python",
      "notebookMetadata": {
        "pythonIndentUnit": 4
      },
      "notebookName": "ADZD-3-Smog-Intro",
      "widgets": {}
    },
    "colab": {
      "provenance": []
    },
    "kernelspec": {
      "display_name": "PySpark",
      "language": "python",
      "name": "pysparkkernel"
    },
    "language_info": {
      "codemirror_mode": {
        "name": "python",
        "version": 3
      },
      "file_extension": ".py",
      "mimetype": "text/x-python",
      "name": "pyspark",
      "pygments_lexer": "python3"
    }
  },
  "nbformat": 4,
  "nbformat_minor": 0
}
